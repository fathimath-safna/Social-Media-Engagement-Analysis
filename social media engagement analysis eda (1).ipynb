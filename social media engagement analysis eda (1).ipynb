{
 "cells": [
  {
   "cell_type": "code",
   "execution_count": 1,
   "id": "0b3c0f75-0d09-4129-876b-39cd03700d49",
   "metadata": {},
   "outputs": [],
   "source": [
    "import pandas as pd\n",
    "import numpy as np\n",
    "import warnings\n",
    "import matplotlib.pyplot as plt\n",
    "import seaborn as sns\n",
    "warnings.filterwarnings(\"ignore\")"
   ]
  },
  {
   "cell_type": "code",
   "execution_count": 2,
   "id": "be722a2e-8617-401c-bbf5-d53a5abc306d",
   "metadata": {},
   "outputs": [],
   "source": [
    "data=pd.read_excel(r\"C:\\Users\\User\\Downloads\\social_media_engagement_data.xlsx\",sheet_name='Working File')"
   ]
  },
  {
   "cell_type": "code",
   "execution_count": 3,
   "id": "f7eeaa29-67f5-4460-b045-d1e5aaeddc51",
   "metadata": {},
   "outputs": [
    {
     "data": {
      "text/html": [
       "<div>\n",
       "<style scoped>\n",
       "    .dataframe tbody tr th:only-of-type {\n",
       "        vertical-align: middle;\n",
       "    }\n",
       "\n",
       "    .dataframe tbody tr th {\n",
       "        vertical-align: top;\n",
       "    }\n",
       "\n",
       "    .dataframe thead th {\n",
       "        text-align: right;\n",
       "    }\n",
       "</style>\n",
       "<table border=\"1\" class=\"dataframe\">\n",
       "  <thead>\n",
       "    <tr style=\"text-align: right;\">\n",
       "      <th></th>\n",
       "      <th>Platform</th>\n",
       "      <th>Post ID</th>\n",
       "      <th>Post Type</th>\n",
       "      <th>Post Content</th>\n",
       "      <th>Post Timestamp</th>\n",
       "      <th>Date</th>\n",
       "      <th>Weekday Type</th>\n",
       "      <th>Time</th>\n",
       "      <th>Time Periods</th>\n",
       "      <th>Likes</th>\n",
       "      <th>...</th>\n",
       "      <th>Engagement Rate</th>\n",
       "      <th>Audience Age</th>\n",
       "      <th>Age Group</th>\n",
       "      <th>Audience Gender</th>\n",
       "      <th>Audience Location</th>\n",
       "      <th>Audience Continent</th>\n",
       "      <th>Audience Interests</th>\n",
       "      <th>Campaign ID</th>\n",
       "      <th>Sentiment</th>\n",
       "      <th>Influencer ID</th>\n",
       "    </tr>\n",
       "  </thead>\n",
       "  <tbody>\n",
       "    <tr>\n",
       "      <th>0</th>\n",
       "      <td>Instagram</td>\n",
       "      <td>16ce29c5-2dc7-478f-9814-a86754f3ce8b</td>\n",
       "      <td>Video</td>\n",
       "      <td>Increase fast partner south.</td>\n",
       "      <td>2023-07-30 06:40:06.356</td>\n",
       "      <td>2023-07-30</td>\n",
       "      <td>Weekend</td>\n",
       "      <td>2023-07-30 06:40:06.356</td>\n",
       "      <td>Morning</td>\n",
       "      <td>908</td>\n",
       "      <td>...</td>\n",
       "      <td>91.414554</td>\n",
       "      <td>48</td>\n",
       "      <td>Senior Adults</td>\n",
       "      <td>Male</td>\n",
       "      <td>Greece</td>\n",
       "      <td>Europe</td>\n",
       "      <td>population</td>\n",
       "      <td>NaN</td>\n",
       "      <td>Neutral</td>\n",
       "      <td>NaN</td>\n",
       "    </tr>\n",
       "    <tr>\n",
       "      <th>1</th>\n",
       "      <td>Facebook</td>\n",
       "      <td>a30c948b-0fb3-4e92-95da-e2dea184f568</td>\n",
       "      <td>Link</td>\n",
       "      <td>Floor glass bring indicate seem detail.</td>\n",
       "      <td>2022-06-19 14:15:59.833</td>\n",
       "      <td>2022-06-19</td>\n",
       "      <td>Weekend</td>\n",
       "      <td>2022-06-19 14:15:59.833</td>\n",
       "      <td>Afternoon</td>\n",
       "      <td>604</td>\n",
       "      <td>...</td>\n",
       "      <td>45.815296</td>\n",
       "      <td>33</td>\n",
       "      <td>Mature Adults</td>\n",
       "      <td>Female</td>\n",
       "      <td>Lao People's Democratic Republic</td>\n",
       "      <td>Asia</td>\n",
       "      <td>attorney</td>\n",
       "      <td>98705a1e-2573-4cb8-983b-2112d4b140c9</td>\n",
       "      <td>Mixed</td>\n",
       "      <td>NaN</td>\n",
       "    </tr>\n",
       "    <tr>\n",
       "      <th>2</th>\n",
       "      <td>Twitter</td>\n",
       "      <td>aee74d06-c775-459c-8fc4-013ce25644f1</td>\n",
       "      <td>Image</td>\n",
       "      <td>Customer stop language everybody rest chance me.</td>\n",
       "      <td>2022-06-04 06:19:50.403</td>\n",
       "      <td>2022-06-04</td>\n",
       "      <td>Weekend</td>\n",
       "      <td>2022-06-04 06:19:50.403</td>\n",
       "      <td>Morning</td>\n",
       "      <td>288</td>\n",
       "      <td>...</td>\n",
       "      <td>22.813990</td>\n",
       "      <td>23</td>\n",
       "      <td>Adolescent Adults</td>\n",
       "      <td>Other</td>\n",
       "      <td>Jordan</td>\n",
       "      <td>Asia</td>\n",
       "      <td>affect</td>\n",
       "      <td>NaN</td>\n",
       "      <td>Positive</td>\n",
       "      <td>NaN</td>\n",
       "    </tr>\n",
       "    <tr>\n",
       "      <th>3</th>\n",
       "      <td>Instagram</td>\n",
       "      <td>80415748-a509-4fc6-8b55-74f2babe5dac</td>\n",
       "      <td>Image</td>\n",
       "      <td>Town find identify game your.</td>\n",
       "      <td>2022-05-12 15:41:21.902</td>\n",
       "      <td>2022-05-12</td>\n",
       "      <td>Weekday</td>\n",
       "      <td>2022-05-12 15:41:21.902</td>\n",
       "      <td>Afternoon</td>\n",
       "      <td>870</td>\n",
       "      <td>...</td>\n",
       "      <td>70.951344</td>\n",
       "      <td>48</td>\n",
       "      <td>Senior Adults</td>\n",
       "      <td>Male</td>\n",
       "      <td>Sudan</td>\n",
       "      <td>Africa</td>\n",
       "      <td>money</td>\n",
       "      <td>6b15bf9b-14cc-4ab9-9168-56322057b61e</td>\n",
       "      <td>Positive</td>\n",
       "      <td>NaN</td>\n",
       "    </tr>\n",
       "    <tr>\n",
       "      <th>4</th>\n",
       "      <td>LinkedIn</td>\n",
       "      <td>14d34185-639a-4508-a8b6-02a743fe0dbc</td>\n",
       "      <td>Link</td>\n",
       "      <td>Seem strategy you cup.</td>\n",
       "      <td>2023-10-26 20:53:33.135</td>\n",
       "      <td>2023-10-26</td>\n",
       "      <td>Weekday</td>\n",
       "      <td>2023-10-26 20:53:33.135</td>\n",
       "      <td>Evening</td>\n",
       "      <td>573</td>\n",
       "      <td>...</td>\n",
       "      <td>40.225757</td>\n",
       "      <td>40</td>\n",
       "      <td>Mature Adults</td>\n",
       "      <td>Male</td>\n",
       "      <td>Gabon</td>\n",
       "      <td>Africa</td>\n",
       "      <td>part</td>\n",
       "      <td>NaN</td>\n",
       "      <td>Negative</td>\n",
       "      <td>NaN</td>\n",
       "    </tr>\n",
       "  </tbody>\n",
       "</table>\n",
       "<p>5 rows × 24 columns</p>\n",
       "</div>"
      ],
      "text/plain": [
       "    Platform                               Post ID Post Type  \\\n",
       "0  Instagram  16ce29c5-2dc7-478f-9814-a86754f3ce8b     Video   \n",
       "1   Facebook  a30c948b-0fb3-4e92-95da-e2dea184f568      Link   \n",
       "2    Twitter  aee74d06-c775-459c-8fc4-013ce25644f1     Image   \n",
       "3  Instagram  80415748-a509-4fc6-8b55-74f2babe5dac     Image   \n",
       "4   LinkedIn  14d34185-639a-4508-a8b6-02a743fe0dbc      Link   \n",
       "\n",
       "                                       Post Content          Post Timestamp  \\\n",
       "0                      Increase fast partner south. 2023-07-30 06:40:06.356   \n",
       "1           Floor glass bring indicate seem detail. 2022-06-19 14:15:59.833   \n",
       "2  Customer stop language everybody rest chance me. 2022-06-04 06:19:50.403   \n",
       "3                     Town find identify game your. 2022-05-12 15:41:21.902   \n",
       "4                            Seem strategy you cup. 2023-10-26 20:53:33.135   \n",
       "\n",
       "        Date Weekday Type                    Time Time Periods  Likes  ...  \\\n",
       "0 2023-07-30      Weekend 2023-07-30 06:40:06.356      Morning    908  ...   \n",
       "1 2022-06-19      Weekend 2022-06-19 14:15:59.833    Afternoon    604  ...   \n",
       "2 2022-06-04      Weekend 2022-06-04 06:19:50.403      Morning    288  ...   \n",
       "3 2022-05-12      Weekday 2022-05-12 15:41:21.902    Afternoon    870  ...   \n",
       "4 2023-10-26      Weekday 2023-10-26 20:53:33.135      Evening    573  ...   \n",
       "\n",
       "   Engagement Rate  Audience Age          Age Group  Audience Gender  \\\n",
       "0        91.414554            48      Senior Adults             Male   \n",
       "1        45.815296            33      Mature Adults           Female   \n",
       "2        22.813990            23  Adolescent Adults            Other   \n",
       "3        70.951344            48      Senior Adults             Male   \n",
       "4        40.225757            40      Mature Adults             Male   \n",
       "\n",
       "                  Audience Location  Audience Continent Audience Interests  \\\n",
       "0                            Greece              Europe         population   \n",
       "1  Lao People's Democratic Republic                Asia           attorney   \n",
       "2                            Jordan                Asia             affect   \n",
       "3                             Sudan              Africa              money   \n",
       "4                             Gabon              Africa               part   \n",
       "\n",
       "                            Campaign ID Sentiment Influencer ID  \n",
       "0                                   NaN   Neutral           NaN  \n",
       "1  98705a1e-2573-4cb8-983b-2112d4b140c9     Mixed           NaN  \n",
       "2                                   NaN  Positive           NaN  \n",
       "3  6b15bf9b-14cc-4ab9-9168-56322057b61e  Positive           NaN  \n",
       "4                                   NaN  Negative           NaN  \n",
       "\n",
       "[5 rows x 24 columns]"
      ]
     },
     "execution_count": 3,
     "metadata": {},
     "output_type": "execute_result"
    }
   ],
   "source": [
    "data.head()"
   ]
  },
  {
   "cell_type": "code",
   "execution_count": 5,
   "id": "cb9171a1-6f02-4a0b-9933-d2286f72bd45",
   "metadata": {},
   "outputs": [],
   "source": [
    "##cleaning data\n",
    "data_cleaned = data.drop(columns=['Influencer ID', 'Campaign ID'])"
   ]
  },
  {
   "cell_type": "code",
   "execution_count": 22,
   "id": "e5fbbe2d-5403-4050-b83d-57e5f7dc4a47",
   "metadata": {},
   "outputs": [
    {
     "data": {
      "text/plain": [
       "Platform              0\n",
       "Post ID               0\n",
       "Post Type             0\n",
       "Post Content          0\n",
       "Post Timestamp        0\n",
       "Date                  0\n",
       "Weekday Type          0\n",
       "Time                  0\n",
       "Time Periods          0\n",
       "Likes                 0\n",
       "Comments              0\n",
       "Shares                0\n",
       "Impressions           0\n",
       "Reach                 0\n",
       "Engagement Rate       0\n",
       "Audience Age          0\n",
       "Age Group             0\n",
       "Audience Gender       0\n",
       "Audience Location     0\n",
       "Audience Continent    0\n",
       "Audience Interests    0\n",
       "Sentiment             0\n",
       "dtype: int64"
      ]
     },
     "execution_count": 22,
     "metadata": {},
     "output_type": "execute_result"
    }
   ],
   "source": [
    "data_cleaned.isnull().sum()"
   ]
  },
  {
   "cell_type": "code",
   "execution_count": 7,
   "id": "d5a6f087-e2cc-44b4-961d-7eba71c912a8",
   "metadata": {},
   "outputs": [
    {
     "name": "stdout",
     "output_type": "stream",
     "text": [
      "<class 'pandas.core.frame.DataFrame'>\n",
      "RangeIndex: 100000 entries, 0 to 99999\n",
      "Data columns (total 24 columns):\n",
      " #   Column              Non-Null Count   Dtype         \n",
      "---  ------              --------------   -----         \n",
      " 0   Platform            100000 non-null  object        \n",
      " 1   Post ID             100000 non-null  object        \n",
      " 2   Post Type           100000 non-null  object        \n",
      " 3   Post Content        100000 non-null  object        \n",
      " 4   Post Timestamp      100000 non-null  datetime64[ns]\n",
      " 5   Date                100000 non-null  datetime64[ns]\n",
      " 6   Weekday Type        100000 non-null  object        \n",
      " 7   Time                100000 non-null  datetime64[ns]\n",
      " 8   Time Periods        100000 non-null  object        \n",
      " 9   Likes               100000 non-null  int64         \n",
      " 10  Comments            100000 non-null  int64         \n",
      " 11  Shares              100000 non-null  int64         \n",
      " 12  Impressions         100000 non-null  int64         \n",
      " 13  Reach               100000 non-null  int64         \n",
      " 14  Engagement Rate     100000 non-null  float64       \n",
      " 15  Audience Age        100000 non-null  int64         \n",
      " 16  Age Group           100000 non-null  object        \n",
      " 17  Audience Gender     100000 non-null  object        \n",
      " 18  Audience Location   100000 non-null  object        \n",
      " 19  Audience Continent  100000 non-null  object        \n",
      " 20  Audience Interests  100000 non-null  object        \n",
      " 21  Campaign ID         20132 non-null   object        \n",
      " 22  Sentiment           100000 non-null  object        \n",
      " 23  Influencer ID       9994 non-null    object        \n",
      "dtypes: datetime64[ns](3), float64(1), int64(6), object(14)\n",
      "memory usage: 18.3+ MB\n"
     ]
    }
   ],
   "source": [
    "data.info()"
   ]
  },
  {
   "cell_type": "code",
   "execution_count": 4,
   "id": "0d6a1bd1-6b11-42fb-a5bf-752ccf303e9c",
   "metadata": {},
   "outputs": [
    {
     "name": "stdout",
     "output_type": "stream",
     "text": [
      " Platform Distribution\n"
     ]
    },
    {
     "data": {
      "text/plain": [
       "Platform\n",
       "Instagram    24835\n",
       "Facebook     24879\n",
       "LinkedIn     25126\n",
       "Twitter      25160\n",
       "Name: count, dtype: int64"
      ]
     },
     "execution_count": 4,
     "metadata": {},
     "output_type": "execute_result"
    }
   ],
   "source": [
    "#1.What are the most common social media platforms used?\n",
    "print(\" Platform Distribution\")\n",
    "data['Platform'].value_counts().sort_values(ascending=True)"
   ]
  },
  {
   "cell_type": "code",
   "execution_count": 9,
   "id": "980e7ae4-3ad4-4842-a68d-c283f28b0a07",
   "metadata": {},
   "outputs": [],
   "source": [
    "##most popular post\n",
    "data['Total Engagement'] = data['Likes'] + data['Comments'] + data['Shares']\n",
    "most_popular_post = data.loc[data['Total Engagement'].idxmax()]\n"
   ]
  },
  {
   "cell_type": "code",
   "execution_count": 5,
   "id": "9aa0ed8a-8106-4d17-9880-821dad8a395b",
   "metadata": {},
   "outputs": [
    {
     "name": "stdout",
     "output_type": "stream",
     "text": [
      "Average Engagement Rate:\n"
     ]
    },
    {
     "data": {
      "text/plain": [
       "46.92"
      ]
     },
     "execution_count": 5,
     "metadata": {},
     "output_type": "execute_result"
    }
   ],
   "source": [
    "#2.What is the average engagement rate?\n",
    "print(\"Average Engagement Rate:\")\n",
    "round(data['Engagement Rate'].mean(),2)\n"
   ]
  },
  {
   "cell_type": "code",
   "execution_count": 17,
   "id": "975dc8bb-0267-4611-b5b8-d44156680346",
   "metadata": {},
   "outputs": [
    {
     "name": "stdout",
     "output_type": "stream",
     "text": [
      "Post Type Distribution:\n"
     ]
    },
    {
     "data": {
      "text/plain": [
       "Post Type\n",
       "Video    33384\n",
       "Link     33338\n",
       "Image    33278\n",
       "Name: count, dtype: int64"
      ]
     },
     "execution_count": 17,
     "metadata": {},
     "output_type": "execute_result"
    }
   ],
   "source": [
    "#3.what type of posts are most commomn?\n",
    "print(\"Post Type Distribution:\")\n",
    "data['Post Type'].value_counts()"
   ]
  },
  {
   "cell_type": "code",
   "execution_count": 18,
   "id": "b2daa6fc-6cc5-4e83-9c77-f43f22f19753",
   "metadata": {},
   "outputs": [
    {
     "name": "stdout",
     "output_type": "stream",
     "text": [
      " Avg Engagement Rate by Platform\n",
      "Platform\n",
      "Instagram    47.125036\n",
      "Twitter      46.918224\n",
      "Facebook     46.910491\n",
      "LinkedIn     46.725034\n",
      "Name: Engagement Rate, dtype: float64\n"
     ]
    }
   ],
   "source": [
    "#4.Which platform has the highest average engagement rate?\n",
    "platform_avg_engagement = data.groupby('Platform')['Engagement Rate'].mean().sort_values(ascending=False)\n",
    "print(\" Avg Engagement Rate by Platform\")\n",
    "print(platform_avg_engagement)"
   ]
  },
  {
   "cell_type": "code",
   "execution_count": 71,
   "id": "1f590dbf-26c1-4dd2-ac5f-5092d7483d15",
   "metadata": {},
   "outputs": [
    {
     "name": "stdout",
     "output_type": "stream",
     "text": [
      "Avg Engagement Rate by Time Period\n",
      "Time Periods\n",
      "Afternoon    47.041927\n",
      "Evening      47.002963\n",
      "Night        46.920737\n",
      "Morning      46.737358\n",
      "Name: Engagement Rate, dtype: float64\n"
     ]
    }
   ],
   "source": [
    "#5What time of day yields higher engagement?\n",
    "time_period_engagement = data.groupby('Time Periods')['Engagement Rate'].mean().sort_values(ascending=False)\n",
    "print(\"Avg Engagement Rate by Time Period\")\n",
    "print(time_period_engagement)"
   ]
  },
  {
   "cell_type": "code",
   "execution_count": 72,
   "id": "f77417db-234a-402f-a175-966790b9c4e4",
   "metadata": {},
   "outputs": [
    {
     "name": "stdout",
     "output_type": "stream",
     "text": [
      "Weekday vs Weekend Engagement\n",
      "Weekday Type\n",
      "Weekday    46.975205\n",
      "Weekend    46.778667\n",
      "Name: Engagement Rate, dtype: float64\n"
     ]
    }
   ],
   "source": [
    "#6.Do weekends perform better than weekdays?\n",
    "weekday_engagement = data.groupby('Weekday Type')['Engagement Rate'].mean()\n",
    "print(\"Weekday vs Weekend Engagement\")\n",
    "print(weekday_engagement)\n"
   ]
  },
  {
   "cell_type": "code",
   "execution_count": 6,
   "id": "ab44b6a1-b5c4-41fd-8965-dbc205dc9a63",
   "metadata": {},
   "outputs": [
    {
     "name": "stdout",
     "output_type": "stream",
     "text": [
      "Sentiment Distribution\n"
     ]
    },
    {
     "data": {
      "text/plain": [
       "Sentiment\n",
       "Mixed       50100\n",
       "Positive    16738\n",
       "Neutral     16645\n",
       "Negative    16517\n",
       "Name: count, dtype: int64"
      ]
     },
     "execution_count": 6,
     "metadata": {},
     "output_type": "execute_result"
    }
   ],
   "source": [
    "#7.What is the sentiment distribution of posts?\n",
    "print(\"Sentiment Distribution\")\n",
    "data['Sentiment'].value_counts()\n"
   ]
  },
  {
   "cell_type": "code",
   "execution_count": 78,
   "id": "7a46f8ef-6bbf-4ebd-a921-a08afdd2bc06",
   "metadata": {},
   "outputs": [
    {
     "name": "stdout",
     "output_type": "stream",
     "text": [
      "Engagement Rate by Age Group\n",
      "Age Group\n",
      "Senior Adults        47.108377\n",
      "Adolescent Adults    46.868434\n",
      "Mature Adults        46.710326\n",
      "Name: Engagement Rate, dtype: float64\n"
     ]
    }
   ],
   "source": [
    "#8.Which audience age group engages the most?\n",
    "age_group_engagement = df.groupby('Age Group')['Engagement Rate'].mean().sort_values(ascending=False)\n",
    "print(\"Engagement Rate by Age Group\")\n",
    "print(age_group_engagement)\n"
   ]
  },
  {
   "cell_type": "code",
   "execution_count": 79,
   "id": "0b21b169-ab56-46c0-ac75-0681925b8705",
   "metadata": {},
   "outputs": [
    {
     "name": "stdout",
     "output_type": "stream",
     "text": [
      "Engagement Rate by Continent\n",
      "Audience Continent\n",
      "Oceania         47.617267\n",
      "SouthAmerica    47.500296\n",
      "Europe          47.049705\n",
      "Africa          46.870133\n",
      "NorthAmerica    46.750624\n",
      "Asia            46.422694\n",
      "Antarctica      46.267351\n",
      "Name: Engagement Rate, dtype: float64\n"
     ]
    }
   ],
   "source": [
    "#9.Which audience continent has highest engagement?\n",
    "continent_engagement = df.groupby('Audience Continent')['Engagement Rate'].mean().sort_values(ascending=False)\n",
    "print(\"Engagement Rate by Continent\")\n",
    "print(continent_engagement)\n"
   ]
  },
  {
   "cell_type": "code",
   "execution_count": 83,
   "id": "5c3a2e4b-ff9c-40d3-a814-5ccfd71baa5f",
   "metadata": {},
   "outputs": [
    {
     "data": {
      "text/html": [
       "<div>\n",
       "<style scoped>\n",
       "    .dataframe tbody tr th:only-of-type {\n",
       "        vertical-align: middle;\n",
       "    }\n",
       "\n",
       "    .dataframe tbody tr th {\n",
       "        vertical-align: top;\n",
       "    }\n",
       "\n",
       "    .dataframe thead th {\n",
       "        text-align: right;\n",
       "    }\n",
       "</style>\n",
       "<table border=\"1\" class=\"dataframe\">\n",
       "  <thead>\n",
       "    <tr style=\"text-align: right;\">\n",
       "      <th>Platform</th>\n",
       "      <th>Facebook</th>\n",
       "      <th>Instagram</th>\n",
       "      <th>LinkedIn</th>\n",
       "      <th>Twitter</th>\n",
       "    </tr>\n",
       "    <tr>\n",
       "      <th>Audience Gender</th>\n",
       "      <th></th>\n",
       "      <th></th>\n",
       "      <th></th>\n",
       "      <th></th>\n",
       "    </tr>\n",
       "  </thead>\n",
       "  <tbody>\n",
       "    <tr>\n",
       "      <th>Female</th>\n",
       "      <td>8195</td>\n",
       "      <td>8289</td>\n",
       "      <td>8454</td>\n",
       "      <td>8447</td>\n",
       "    </tr>\n",
       "    <tr>\n",
       "      <th>Male</th>\n",
       "      <td>8428</td>\n",
       "      <td>8366</td>\n",
       "      <td>8313</td>\n",
       "      <td>8369</td>\n",
       "    </tr>\n",
       "    <tr>\n",
       "      <th>Other</th>\n",
       "      <td>8256</td>\n",
       "      <td>8180</td>\n",
       "      <td>8359</td>\n",
       "      <td>8344</td>\n",
       "    </tr>\n",
       "  </tbody>\n",
       "</table>\n",
       "</div>"
      ],
      "text/plain": [
       "Platform         Facebook  Instagram  LinkedIn  Twitter\n",
       "Audience Gender                                        \n",
       "Female               8195       8289      8454     8447\n",
       "Male                 8428       8366      8313     8369\n",
       "Other                8256       8180      8359     8344"
      ]
     },
     "execution_count": 83,
     "metadata": {},
     "output_type": "execute_result"
    }
   ],
   "source": [
    "#10.Audience Gender vs Platform\n",
    "pd.crosstab(data['Audience Gender'], data['Platform'])"
   ]
  },
  {
   "cell_type": "code",
   "execution_count": 84,
   "id": "dcf8be97-accb-4496-a48a-e0b84f096bf0",
   "metadata": {},
   "outputs": [
    {
     "data": {
      "text/html": [
       "<div>\n",
       "<style scoped>\n",
       "    .dataframe tbody tr th:only-of-type {\n",
       "        vertical-align: middle;\n",
       "    }\n",
       "\n",
       "    .dataframe tbody tr th {\n",
       "        vertical-align: top;\n",
       "    }\n",
       "\n",
       "    .dataframe thead th {\n",
       "        text-align: right;\n",
       "    }\n",
       "</style>\n",
       "<table border=\"1\" class=\"dataframe\">\n",
       "  <thead>\n",
       "    <tr style=\"text-align: right;\">\n",
       "      <th>Platform</th>\n",
       "      <th>Facebook</th>\n",
       "      <th>Instagram</th>\n",
       "      <th>LinkedIn</th>\n",
       "      <th>Twitter</th>\n",
       "    </tr>\n",
       "    <tr>\n",
       "      <th>Sentiment</th>\n",
       "      <th></th>\n",
       "      <th></th>\n",
       "      <th></th>\n",
       "      <th></th>\n",
       "    </tr>\n",
       "  </thead>\n",
       "  <tbody>\n",
       "    <tr>\n",
       "      <th>Mixed</th>\n",
       "      <td>12456</td>\n",
       "      <td>12451</td>\n",
       "      <td>12645</td>\n",
       "      <td>12548</td>\n",
       "    </tr>\n",
       "    <tr>\n",
       "      <th>Negative</th>\n",
       "      <td>4180</td>\n",
       "      <td>4104</td>\n",
       "      <td>4146</td>\n",
       "      <td>4087</td>\n",
       "    </tr>\n",
       "    <tr>\n",
       "      <th>Neutral</th>\n",
       "      <td>4159</td>\n",
       "      <td>4171</td>\n",
       "      <td>4153</td>\n",
       "      <td>4162</td>\n",
       "    </tr>\n",
       "    <tr>\n",
       "      <th>Positive</th>\n",
       "      <td>4084</td>\n",
       "      <td>4109</td>\n",
       "      <td>4182</td>\n",
       "      <td>4363</td>\n",
       "    </tr>\n",
       "  </tbody>\n",
       "</table>\n",
       "</div>"
      ],
      "text/plain": [
       "Platform   Facebook  Instagram  LinkedIn  Twitter\n",
       "Sentiment                                        \n",
       "Mixed         12456      12451     12645    12548\n",
       "Negative       4180       4104      4146     4087\n",
       "Neutral        4159       4171      4153     4162\n",
       "Positive       4084       4109      4182     4363"
      ]
     },
     "execution_count": 84,
     "metadata": {},
     "output_type": "execute_result"
    }
   ],
   "source": [
    "#11. Sentiment vs Platform\n",
    "pd.crosstab(data['Sentiment'], data['Platform'])\n"
   ]
  },
  {
   "cell_type": "code",
   "execution_count": 86,
   "id": "b1d39784-ba06-4964-957c-bfe7800a7533",
   "metadata": {},
   "outputs": [
    {
     "data": {
      "text/html": [
       "<div>\n",
       "<style scoped>\n",
       "    .dataframe tbody tr th:only-of-type {\n",
       "        vertical-align: middle;\n",
       "    }\n",
       "\n",
       "    .dataframe tbody tr th {\n",
       "        vertical-align: top;\n",
       "    }\n",
       "\n",
       "    .dataframe thead th {\n",
       "        text-align: right;\n",
       "    }\n",
       "</style>\n",
       "<table border=\"1\" class=\"dataframe\">\n",
       "  <thead>\n",
       "    <tr style=\"text-align: right;\">\n",
       "      <th>Post Type</th>\n",
       "      <th>Image</th>\n",
       "      <th>Link</th>\n",
       "      <th>Video</th>\n",
       "    </tr>\n",
       "    <tr>\n",
       "      <th>Platform</th>\n",
       "      <th></th>\n",
       "      <th></th>\n",
       "      <th></th>\n",
       "    </tr>\n",
       "  </thead>\n",
       "  <tbody>\n",
       "    <tr>\n",
       "      <th>Facebook</th>\n",
       "      <td>8378</td>\n",
       "      <td>8153</td>\n",
       "      <td>8348</td>\n",
       "    </tr>\n",
       "    <tr>\n",
       "      <th>Instagram</th>\n",
       "      <td>8232</td>\n",
       "      <td>8307</td>\n",
       "      <td>8296</td>\n",
       "    </tr>\n",
       "    <tr>\n",
       "      <th>LinkedIn</th>\n",
       "      <td>8258</td>\n",
       "      <td>8498</td>\n",
       "      <td>8370</td>\n",
       "    </tr>\n",
       "    <tr>\n",
       "      <th>Twitter</th>\n",
       "      <td>8410</td>\n",
       "      <td>8380</td>\n",
       "      <td>8370</td>\n",
       "    </tr>\n",
       "  </tbody>\n",
       "</table>\n",
       "</div>"
      ],
      "text/plain": [
       "Post Type  Image  Link  Video\n",
       "Platform                     \n",
       "Facebook    8378  8153   8348\n",
       "Instagram   8232  8307   8296\n",
       "LinkedIn    8258  8498   8370\n",
       "Twitter     8410  8380   8370"
      ]
     },
     "execution_count": 86,
     "metadata": {},
     "output_type": "execute_result"
    }
   ],
   "source": [
    "#12\n",
    "pd.crosstab(data['Platform'], data['Post Type'])\n"
   ]
  },
  {
   "cell_type": "code",
   "execution_count": 87,
   "id": "2f6a4b11-f2a5-4885-9374-0d3fca4f665c",
   "metadata": {},
   "outputs": [
    {
     "data": {
      "text/html": [
       "<div>\n",
       "<style scoped>\n",
       "    .dataframe tbody tr th:only-of-type {\n",
       "        vertical-align: middle;\n",
       "    }\n",
       "\n",
       "    .dataframe tbody tr th {\n",
       "        vertical-align: top;\n",
       "    }\n",
       "\n",
       "    .dataframe thead th {\n",
       "        text-align: right;\n",
       "    }\n",
       "</style>\n",
       "<table border=\"1\" class=\"dataframe\">\n",
       "  <thead>\n",
       "    <tr style=\"text-align: right;\">\n",
       "      <th></th>\n",
       "      <th>Platform</th>\n",
       "      <th>Post ID</th>\n",
       "      <th>Post Type</th>\n",
       "      <th>Post Content</th>\n",
       "      <th>Post Timestamp</th>\n",
       "      <th>Date</th>\n",
       "      <th>Weekday Type</th>\n",
       "      <th>Time</th>\n",
       "      <th>Time Periods</th>\n",
       "      <th>Likes</th>\n",
       "      <th>...</th>\n",
       "      <th>Engagement Rate</th>\n",
       "      <th>Audience Age</th>\n",
       "      <th>Age Group</th>\n",
       "      <th>Audience Gender</th>\n",
       "      <th>Audience Location</th>\n",
       "      <th>Audience Continent</th>\n",
       "      <th>Audience Interests</th>\n",
       "      <th>Campaign ID</th>\n",
       "      <th>Sentiment</th>\n",
       "      <th>Influencer ID</th>\n",
       "    </tr>\n",
       "  </thead>\n",
       "  <tbody>\n",
       "    <tr>\n",
       "      <th>46288</th>\n",
       "      <td>Instagram</td>\n",
       "      <td>8dd3e9eb-5de9-475c-97b2-3c4c490b5cc2</td>\n",
       "      <td>Image</td>\n",
       "      <td>Expert final position money weight I like.</td>\n",
       "      <td>2021-05-07 09:18:41.345</td>\n",
       "      <td>2021-05-07</td>\n",
       "      <td>Weekday</td>\n",
       "      <td>2021-05-07 09:18:41.345</td>\n",
       "      <td>Morning</td>\n",
       "      <td>980</td>\n",
       "      <td>...</td>\n",
       "      <td>312.547529</td>\n",
       "      <td>65</td>\n",
       "      <td>Senior Adults</td>\n",
       "      <td>Female</td>\n",
       "      <td>Madagascar</td>\n",
       "      <td>Africa</td>\n",
       "      <td>president</td>\n",
       "      <td>NaN</td>\n",
       "      <td>Mixed</td>\n",
       "      <td>NaN</td>\n",
       "    </tr>\n",
       "    <tr>\n",
       "      <th>38059</th>\n",
       "      <td>Twitter</td>\n",
       "      <td>52f0b9ca-b168-44bd-a6f9-2be3ef92d740</td>\n",
       "      <td>Image</td>\n",
       "      <td>Father concern remember but certainly environm...</td>\n",
       "      <td>2022-04-13 16:14:01.158</td>\n",
       "      <td>2022-04-13</td>\n",
       "      <td>Weekday</td>\n",
       "      <td>2022-04-13 16:14:01.158</td>\n",
       "      <td>Afternoon</td>\n",
       "      <td>954</td>\n",
       "      <td>...</td>\n",
       "      <td>309.881423</td>\n",
       "      <td>42</td>\n",
       "      <td>Mature Adults</td>\n",
       "      <td>Other</td>\n",
       "      <td>New Zealand</td>\n",
       "      <td>Oceania</td>\n",
       "      <td>what</td>\n",
       "      <td>NaN</td>\n",
       "      <td>Mixed</td>\n",
       "      <td>NaN</td>\n",
       "    </tr>\n",
       "    <tr>\n",
       "      <th>57162</th>\n",
       "      <td>Twitter</td>\n",
       "      <td>53ebf9cd-a8de-432c-a594-2cb7f7f929f2</td>\n",
       "      <td>Link</td>\n",
       "      <td>On value hold lay carry somebody.</td>\n",
       "      <td>2023-02-26 20:49:22.834</td>\n",
       "      <td>2023-02-26</td>\n",
       "      <td>Weekend</td>\n",
       "      <td>2023-02-26 20:49:22.834</td>\n",
       "      <td>Evening</td>\n",
       "      <td>971</td>\n",
       "      <td>...</td>\n",
       "      <td>309.469697</td>\n",
       "      <td>42</td>\n",
       "      <td>Mature Adults</td>\n",
       "      <td>Male</td>\n",
       "      <td>British Virgin Islands</td>\n",
       "      <td>NorthAmerica</td>\n",
       "      <td>stay</td>\n",
       "      <td>NaN</td>\n",
       "      <td>Mixed</td>\n",
       "      <td>NaN</td>\n",
       "    </tr>\n",
       "    <tr>\n",
       "      <th>33633</th>\n",
       "      <td>Facebook</td>\n",
       "      <td>da46b93b-ca64-4329-b667-5e39f0a44d8c</td>\n",
       "      <td>Link</td>\n",
       "      <td>Writer six former cover college.</td>\n",
       "      <td>2022-03-04 16:46:33.511</td>\n",
       "      <td>2022-03-04</td>\n",
       "      <td>Weekday</td>\n",
       "      <td>2022-03-04 16:46:33.511</td>\n",
       "      <td>Afternoon</td>\n",
       "      <td>963</td>\n",
       "      <td>...</td>\n",
       "      <td>302.750491</td>\n",
       "      <td>29</td>\n",
       "      <td>Adolescent Adults</td>\n",
       "      <td>Male</td>\n",
       "      <td>Cote d'Ivoire</td>\n",
       "      <td>Africa</td>\n",
       "      <td>product</td>\n",
       "      <td>NaN</td>\n",
       "      <td>Negative</td>\n",
       "      <td>NaN</td>\n",
       "    </tr>\n",
       "    <tr>\n",
       "      <th>29789</th>\n",
       "      <td>Twitter</td>\n",
       "      <td>00831fee-24fa-44bd-84a3-9cec66cf2f35</td>\n",
       "      <td>Link</td>\n",
       "      <td>Hot use play day since carry.</td>\n",
       "      <td>2023-05-10 23:15:29.779</td>\n",
       "      <td>2023-05-10</td>\n",
       "      <td>Weekday</td>\n",
       "      <td>2023-05-10 23:15:29.779</td>\n",
       "      <td>Night</td>\n",
       "      <td>957</td>\n",
       "      <td>...</td>\n",
       "      <td>302.504817</td>\n",
       "      <td>49</td>\n",
       "      <td>Senior Adults</td>\n",
       "      <td>Female</td>\n",
       "      <td>Taiwan</td>\n",
       "      <td>Asia</td>\n",
       "      <td>under</td>\n",
       "      <td>NaN</td>\n",
       "      <td>Positive</td>\n",
       "      <td>NaN</td>\n",
       "    </tr>\n",
       "  </tbody>\n",
       "</table>\n",
       "<p>5 rows × 24 columns</p>\n",
       "</div>"
      ],
      "text/plain": [
       "        Platform                               Post ID Post Type  \\\n",
       "46288  Instagram  8dd3e9eb-5de9-475c-97b2-3c4c490b5cc2     Image   \n",
       "38059    Twitter  52f0b9ca-b168-44bd-a6f9-2be3ef92d740     Image   \n",
       "57162    Twitter  53ebf9cd-a8de-432c-a594-2cb7f7f929f2      Link   \n",
       "33633   Facebook  da46b93b-ca64-4329-b667-5e39f0a44d8c      Link   \n",
       "29789    Twitter  00831fee-24fa-44bd-84a3-9cec66cf2f35      Link   \n",
       "\n",
       "                                            Post Content  \\\n",
       "46288         Expert final position money weight I like.   \n",
       "38059  Father concern remember but certainly environm...   \n",
       "57162                  On value hold lay carry somebody.   \n",
       "33633                   Writer six former cover college.   \n",
       "29789                      Hot use play day since carry.   \n",
       "\n",
       "               Post Timestamp       Date Weekday Type                    Time  \\\n",
       "46288 2021-05-07 09:18:41.345 2021-05-07      Weekday 2021-05-07 09:18:41.345   \n",
       "38059 2022-04-13 16:14:01.158 2022-04-13      Weekday 2022-04-13 16:14:01.158   \n",
       "57162 2023-02-26 20:49:22.834 2023-02-26      Weekend 2023-02-26 20:49:22.834   \n",
       "33633 2022-03-04 16:46:33.511 2022-03-04      Weekday 2022-03-04 16:46:33.511   \n",
       "29789 2023-05-10 23:15:29.779 2023-05-10      Weekday 2023-05-10 23:15:29.779   \n",
       "\n",
       "      Time Periods  Likes  ...  Engagement Rate  Audience Age  \\\n",
       "46288      Morning    980  ...       312.547529            65   \n",
       "38059    Afternoon    954  ...       309.881423            42   \n",
       "57162      Evening    971  ...       309.469697            42   \n",
       "33633    Afternoon    963  ...       302.750491            29   \n",
       "29789        Night    957  ...       302.504817            49   \n",
       "\n",
       "               Age Group  Audience Gender       Audience Location  \\\n",
       "46288      Senior Adults           Female              Madagascar   \n",
       "38059      Mature Adults            Other             New Zealand   \n",
       "57162      Mature Adults             Male  British Virgin Islands   \n",
       "33633  Adolescent Adults             Male           Cote d'Ivoire   \n",
       "29789      Senior Adults           Female                  Taiwan   \n",
       "\n",
       "       Audience Continent Audience Interests Campaign ID Sentiment  \\\n",
       "46288              Africa          president         NaN     Mixed   \n",
       "38059             Oceania               what         NaN     Mixed   \n",
       "57162        NorthAmerica               stay         NaN     Mixed   \n",
       "33633              Africa            product         NaN  Negative   \n",
       "29789                Asia              under         NaN  Positive   \n",
       "\n",
       "      Influencer ID  \n",
       "46288           NaN  \n",
       "38059           NaN  \n",
       "57162           NaN  \n",
       "33633           NaN  \n",
       "29789           NaN  \n",
       "\n",
       "[5 rows x 24 columns]"
      ]
     },
     "execution_count": 87,
     "metadata": {},
     "output_type": "execute_result"
    }
   ],
   "source": [
    "#13.Top 5 highest performing posts (Engagement Rate)\n",
    "data.sort_values('Engagement Rate', ascending=False).head(5)"
   ]
  },
  {
   "cell_type": "code",
   "execution_count": 88,
   "id": "9e9ce654-0043-4ea8-af07-ab846596241d",
   "metadata": {},
   "outputs": [
    {
     "data": {
      "text/html": [
       "<div>\n",
       "<style scoped>\n",
       "    .dataframe tbody tr th:only-of-type {\n",
       "        vertical-align: middle;\n",
       "    }\n",
       "\n",
       "    .dataframe tbody tr th {\n",
       "        vertical-align: top;\n",
       "    }\n",
       "\n",
       "    .dataframe thead th {\n",
       "        text-align: right;\n",
       "    }\n",
       "</style>\n",
       "<table border=\"1\" class=\"dataframe\">\n",
       "  <thead>\n",
       "    <tr style=\"text-align: right;\">\n",
       "      <th>Sentiment</th>\n",
       "      <th>Mixed</th>\n",
       "      <th>Negative</th>\n",
       "      <th>Neutral</th>\n",
       "      <th>Positive</th>\n",
       "    </tr>\n",
       "    <tr>\n",
       "      <th>Post Type</th>\n",
       "      <th></th>\n",
       "      <th></th>\n",
       "      <th></th>\n",
       "      <th></th>\n",
       "    </tr>\n",
       "  </thead>\n",
       "  <tbody>\n",
       "    <tr>\n",
       "      <th>Image</th>\n",
       "      <td>16629</td>\n",
       "      <td>5510</td>\n",
       "      <td>5506</td>\n",
       "      <td>5633</td>\n",
       "    </tr>\n",
       "    <tr>\n",
       "      <th>Link</th>\n",
       "      <td>16753</td>\n",
       "      <td>5488</td>\n",
       "      <td>5505</td>\n",
       "      <td>5592</td>\n",
       "    </tr>\n",
       "    <tr>\n",
       "      <th>Video</th>\n",
       "      <td>16718</td>\n",
       "      <td>5519</td>\n",
       "      <td>5634</td>\n",
       "      <td>5513</td>\n",
       "    </tr>\n",
       "  </tbody>\n",
       "</table>\n",
       "</div>"
      ],
      "text/plain": [
       "Sentiment  Mixed  Negative  Neutral  Positive\n",
       "Post Type                                    \n",
       "Image      16629      5510     5506      5633\n",
       "Link       16753      5488     5505      5592\n",
       "Video      16718      5519     5634      5513"
      ]
     },
     "execution_count": 88,
     "metadata": {},
     "output_type": "execute_result"
    }
   ],
   "source": [
    "#14.Are certain post types more likely to generate positive sentiment?\n",
    "pd.crosstab(data['Post Type'],data['Sentiment'])\n"
   ]
  },
  {
   "cell_type": "code",
   "execution_count": 90,
   "id": "9594078f-dc5c-4415-b2ba-903ea1a4a09c",
   "metadata": {},
   "outputs": [
    {
     "data": {
      "text/plain": [
       "Audience Location\n",
       "Korea                        814\n",
       "Congo                        786\n",
       "Uzbekistan                   457\n",
       "Kuwait                       451\n",
       "Dominica                     451\n",
       "Mozambique                   451\n",
       "Latvia                       450\n",
       "Marshall Islands             448\n",
       "Bouvet Island (Bouvetoya)    446\n",
       "Finland                      446\n",
       "Name: count, dtype: int64"
      ]
     },
     "execution_count": 90,
     "metadata": {},
     "output_type": "execute_result"
    }
   ],
   "source": [
    "#15. Which countries have the highest volume of audience activity?\n",
    "data['Audience Location'].value_counts().head(10)\n"
   ]
  },
  {
   "cell_type": "code",
   "execution_count": 8,
   "id": "884be19e-6b66-442a-90fb-6528829ac051",
   "metadata": {},
   "outputs": [
    {
     "data": {
      "image/png": "[encoded data removed]",
      "text/plain": [
       "<Figure size 700x500 with 1 Axes>"
      ]
     },
     "metadata": {},
     "output_type": "display_data"
    }
   ],
   "source": [
    "##Sentiment vs Engagement Rate\n",
    "\n",
    "plt.figure(figsize=(7, 5))\n",
    "sns.barplot(x='Sentiment', y='Engagement Rate', data=data, estimator=np.mean, palette='Set2')\n",
    "plt.title('Average Engagement Rate by Sentiment', fontsize=14)\n",
    "plt.ylabel('Engagement Rate')\n",
    "plt.xlabel('Sentiment')\n",
    "plt.grid(axis='y', linestyle='--', alpha=0.5)\n",
    "plt.tight_layout()\n",
    "plt.show()\n"
   ]
  },
  {
   "cell_type": "code",
   "execution_count": 10,
   "id": "a35868fa-90b5-40eb-9c6f-2ec179894e71",
   "metadata": {},
   "outputs": [
    {
     "data": {
      "image/png": "[encoded data removed]",
      "text/plain": [
       "<Figure size 900x600 with 1 Axes>"
      ]
     },
     "metadata": {},
     "output_type": "display_data"
    }
   ],
   "source": [
    "##Audience Gender Breakdown by Platform\n",
    "gender_platform = pd.crosstab(data['Platform'], data['Audience Gender'])\n",
    "custom_colors = ['#c6dbef', '#6baed6', '#2171b5']  \n",
    "gender_platform.plot(kind='bar', stacked=True, figsize=(9,6),color=custom_colors)\n",
    "plt.title('Audience Gender by Platform')\n",
    "plt.ylabel('Number of Posts')\n",
    "plt.xticks(rotation=45)\n",
    "plt.legend(title='Gender')\n",
    "plt.tight_layout()\n",
    "plt.show()\n"
   ]
  },
  {
   "cell_type": "code",
   "execution_count": 101,
   "id": "657828ea-74f2-44a3-b0ab-7ed3d371ad47",
   "metadata": {},
   "outputs": [
    {
     "data": {
      "image/png": "[encoded data removed]",
      "text/plain": [
       "<Figure size 800x500 with 2 Axes>"
      ]
     },
     "metadata": {},
     "output_type": "display_data"
    }
   ],
   "source": [
    "##Post Type Distribution Across Platforms\n",
    "plt.figure(figsize=(8,5))\n",
    "post_platform = pd.crosstab(df['Platform'], df['Post Type'])\n",
    "sns.heatmap(post_platform, annot=True, cmap='Blues', fmt='d')\n",
    "plt.title('Post Type Distribution by Platform')\n",
    "plt.ylabel('Platform')\n",
    "plt.xlabel('Post Type')\n",
    "plt.show()\n"
   ]
  },
  {
   "cell_type": "code",
   "execution_count": 17,
   "id": "d47d79c7-f3e8-4139-8270-dde011f705b9",
   "metadata": {},
   "outputs": [
    {
     "data": {
      "image/png": "[encoded data removed]",
      "text/plain": [
       "<Figure size 600x400 with 1 Axes>"
      ]
     },
     "metadata": {},
     "output_type": "display_data"
    }
   ],
   "source": [
    "##Number of Posts:Weekdays Vs Weekends\n",
    "weekday_type_counts = data['Weekday Type'].value_counts().reset_index()\n",
    "weekday_type_counts.columns = ['Weekday Type', 'Post Count']\n",
    "\n",
    "plt.figure(figsize=(6, 4))\n",
    "sns.barplot(x='Weekday Type', y='Post Count', data=weekday_type_counts, palette='Blues')\n",
    "plt.title('Number of Posts: Weekdays vs Weekends')\n",
    "plt.ylabel('Number of Posts')\n",
    "plt.xlabel('Weekday Type')\n",
    "plt.tight_layout()\n",
    "plt.show()\n"
   ]
  },
  {
   "cell_type": "code",
   "execution_count": 15,
   "id": "36692db3-91e0-4897-b529-e2007e12acb4",
   "metadata": {},
   "outputs": [
    {
     "data": {
      "image/png": "[encoded data removed]",
      "text/plain": [
       "<Figure size 900x500 with 1 Axes>"
      ]
     },
     "metadata": {},
     "output_type": "display_data"
    }
   ],
   "source": [
    "##Engagement Rate by Day of the Week\n",
    "data['Date'] = pd.to_datetime(data['Date'])\n",
    "data['Weekday'] = data['Date'].dt.day_name()\n",
    "\n",
    "plt.figure(figsize=(9, 5))\n",
    "sns.boxplot(x='Weekday', y='Engagement Rate', data=data, palette='pastel')\n",
    "plt.title('Engagement Rate by Weekday')\n",
    "plt.xticks(rotation=45)\n",
    "plt.tight_layout()\n",
    "plt.show()\n"
   ]
  },
  {
   "cell_type": "code",
   "execution_count": 19,
   "id": "49d9998d-6695-4efa-86b5-a6068c846383",
   "metadata": {},
   "outputs": [
    {
     "data": {
      "image/png": "[encoded data removed]",
      "text/plain": [
       "<Figure size 600x400 with 1 Axes>"
      ]
     },
     "metadata": {},
     "output_type": "display_data"
    }
   ],
   "source": [
    "##Sentiment Distribution\n",
    "plt.figure(figsize=(6, 4))\n",
    "sns.countplot(x='Sentiment', data=data, palette='coolwarm')\n",
    "plt.title('Sentiment Distribution of Posts')\n",
    "plt.ylabel('Number of Posts')\n",
    "plt.tight_layout()\n",
    "plt.show()\n"
   ]
  },
  {
   "cell_type": "code",
   "execution_count": null,
   "id": "60929654-636d-425b-be79-2355e457c292",
   "metadata": {},
   "outputs": [],
   "source": []
  }
 ],
 "metadata": {
  "kernelspec": {
   "display_name": "Python 3 (ipykernel)",
   "language": "python",
   "name": "python3"
  },
  "language_info": {
   "codemirror_mode": {
    "name": "ipython",
    "version": 3
   },
   "file_extension": ".py",
   "mimetype": "text/x-python",
   "name": "python",
   "nbconvert_exporter": "python",
   "pygments_lexer": "ipython3",
   "version": "3.12.7"
  }
 },
 "nbformat": 4,
 "nbformat_minor": 5
}
